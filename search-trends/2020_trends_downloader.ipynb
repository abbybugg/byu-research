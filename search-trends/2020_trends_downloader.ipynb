{
 "cells": [
  {
   "cell_type": "code",
   "execution_count": 2,
   "metadata": {},
   "outputs": [
    {
     "ename": "ModuleNotFoundError",
     "evalue": "No module named 'pytrends'",
     "output_type": "error",
     "traceback": [
      "\u001b[0;31m---------------------------------------------------------------------------\u001b[0m",
      "\u001b[0;31mModuleNotFoundError\u001b[0m                       Traceback (most recent call last)",
      "\u001b[0;32m/var/folders/_d/_fnzvr8x6rl0k_c_x16w10jr0000gn/T/ipykernel_21434/2631821011.py\u001b[0m in \u001b[0;36m<module>\u001b[0;34m\u001b[0m\n\u001b[1;32m     10\u001b[0m \u001b[0;32mfrom\u001b[0m \u001b[0mjson\u001b[0m \u001b[0;32mimport\u001b[0m \u001b[0mJSONEncoder\u001b[0m\u001b[0;34m\u001b[0m\u001b[0;34m\u001b[0m\u001b[0m\n\u001b[1;32m     11\u001b[0m \u001b[0;32mfrom\u001b[0m \u001b[0mpandas\u001b[0m \u001b[0;32mimport\u001b[0m \u001b[0mDataFrame\u001b[0m\u001b[0;34m\u001b[0m\u001b[0;34m\u001b[0m\u001b[0m\n\u001b[0;32m---> 12\u001b[0;31m \u001b[0;32mfrom\u001b[0m \u001b[0mpytrends\u001b[0m\u001b[0;34m.\u001b[0m\u001b[0mrequest\u001b[0m \u001b[0;32mimport\u001b[0m \u001b[0mTrendReq\u001b[0m\u001b[0;34m\u001b[0m\u001b[0;34m\u001b[0m\u001b[0m\n\u001b[0m\u001b[1;32m     13\u001b[0m \u001b[0;32mimport\u001b[0m \u001b[0mnumpy\u001b[0m \u001b[0;32mas\u001b[0m \u001b[0mnp\u001b[0m\u001b[0;34m\u001b[0m\u001b[0;34m\u001b[0m\u001b[0m\n\u001b[1;32m     14\u001b[0m \u001b[0;34m\u001b[0m\u001b[0m\n",
      "\u001b[0;31mModuleNotFoundError\u001b[0m: No module named 'pytrends'"
     ]
    }
   ],
   "source": [
    "# Year search trends data compiler. This allows you to access google search trends data and then:\n",
    "# export it to a database, export to csv, or export as json with vertices and edges \n",
    "# This is different from the other file because it has a loop for each month of the year. \n",
    "\n",
    "# This file is the only one that works properly (kind of) with inputting to the database!!!!!\n",
    "##########################################################\n",
    "import csv\n",
    "import pandas as pd\n",
    "import json\n",
    "from json import JSONEncoder\n",
    "from pandas import DataFrame\n",
    "from pytrends.request import TrendReq\n",
    "import numpy as np\n",
    "\n",
    "# Login to Google. Only need to run this once, the rest of requests will use the same session.\n",
    "pytrend = TrendReq(hl='en-US', tz=360)"
   ]
  },
  {
   "cell_type": "code",
   "execution_count": 10,
   "metadata": {},
   "outputs": [],
   "source": [
    "# List of search terms\n",
    "keyword = (['symptomatic'])\n",
    "location = ('US-UT')\n",
    "timeframe = ('2020-01-01 2020-01-31',\n",
    "             '2020-02-01 2020-02-29',\n",
    "             '2020-03-01 2020-03-31',\n",
    "             '2020-04-01 2020-04-30', \n",
    "             '2020-05-01 2020-05-31', \n",
    "             '2020-06-01 2020-06-30',\n",
    "             '2020-07-01 2020-07-31',\n",
    "             '2020-08-01 2020-08-31',\n",
    "             '2020-09-01 2020-09-30', \n",
    "             '2020-10-01 2020-10-31',\n",
    "             '2020-11-01 2020-11-30',\n",
    "             '2020-12-01 2020-12-31')\n",
    "\n",
    "filename = ('outputdata.txt')"
   ]
  },
  {
   "cell_type": "code",
   "execution_count": 11,
   "metadata": {},
   "outputs": [
    {
     "name": "stdout",
     "output_type": "stream",
     "text": [
      "['symptomatic']\n"
     ]
    }
   ],
   "source": [
    "print(keyword)"
   ]
  },
  {
   "cell_type": "code",
   "execution_count": 8,
   "metadata": {},
   "outputs": [
    {
     "data": {
      "text/html": [
       "<div>\n",
       "<style scoped>\n",
       "    .dataframe tbody tr th:only-of-type {\n",
       "        vertical-align: middle;\n",
       "    }\n",
       "\n",
       "    .dataframe tbody tr th {\n",
       "        vertical-align: top;\n",
       "    }\n",
       "\n",
       "    .dataframe thead th {\n",
       "        text-align: right;\n",
       "    }\n",
       "</style>\n",
       "<table border=\"1\" class=\"dataframe\">\n",
       "  <thead>\n",
       "    <tr style=\"text-align: right;\">\n",
       "      <th></th>\n",
       "      <th>Date</th>\n",
       "      <th>Location</th>\n",
       "      <th>Search: symptomatic</th>\n",
       "    </tr>\n",
       "  </thead>\n",
       "  <tbody>\n",
       "    <tr>\n",
       "      <th>0</th>\n",
       "      <td>61</td>\n",
       "      <td>US-UT</td>\n",
       "      <td>0</td>\n",
       "    </tr>\n",
       "    <tr>\n",
       "      <th>1</th>\n",
       "      <td>62</td>\n",
       "      <td>US-UT</td>\n",
       "      <td>0</td>\n",
       "    </tr>\n",
       "    <tr>\n",
       "      <th>2</th>\n",
       "      <td>63</td>\n",
       "      <td>US-UT</td>\n",
       "      <td>0</td>\n",
       "    </tr>\n",
       "    <tr>\n",
       "      <th>3</th>\n",
       "      <td>64</td>\n",
       "      <td>US-UT</td>\n",
       "      <td>0</td>\n",
       "    </tr>\n",
       "    <tr>\n",
       "      <th>4</th>\n",
       "      <td>65</td>\n",
       "      <td>US-UT</td>\n",
       "      <td>0</td>\n",
       "    </tr>\n",
       "    <tr>\n",
       "      <th>...</th>\n",
       "      <td>...</td>\n",
       "      <td>...</td>\n",
       "      <td>...</td>\n",
       "    </tr>\n",
       "    <tr>\n",
       "      <th>240</th>\n",
       "      <td>331</td>\n",
       "      <td>US-UT</td>\n",
       "      <td>0</td>\n",
       "    </tr>\n",
       "    <tr>\n",
       "      <th>241</th>\n",
       "      <td>332</td>\n",
       "      <td>US-UT</td>\n",
       "      <td>0</td>\n",
       "    </tr>\n",
       "    <tr>\n",
       "      <th>242</th>\n",
       "      <td>333</td>\n",
       "      <td>US-UT</td>\n",
       "      <td>0</td>\n",
       "    </tr>\n",
       "    <tr>\n",
       "      <th>243</th>\n",
       "      <td>334</td>\n",
       "      <td>US-UT</td>\n",
       "      <td>0</td>\n",
       "    </tr>\n",
       "    <tr>\n",
       "      <th>244</th>\n",
       "      <td>335</td>\n",
       "      <td>US-UT</td>\n",
       "      <td>0</td>\n",
       "    </tr>\n",
       "  </tbody>\n",
       "</table>\n",
       "<p>245 rows × 3 columns</p>\n",
       "</div>"
      ],
      "text/plain": [
       "     Date Location  Search: symptomatic\n",
       "0      61    US-UT                    0\n",
       "1      62    US-UT                    0\n",
       "2      63    US-UT                    0\n",
       "3      64    US-UT                    0\n",
       "4      65    US-UT                    0\n",
       "..    ...      ...                  ...\n",
       "240   331    US-UT                    0\n",
       "241   332    US-UT                    0\n",
       "242   333    US-UT                    0\n",
       "243   334    US-UT                    0\n",
       "244   335    US-UT                    0\n",
       "\n",
       "[245 rows x 3 columns]"
      ]
     },
     "execution_count": 8,
     "metadata": {},
     "output_type": "execute_result"
    }
   ],
   "source": [
    "# Define an empty dataframe, and then add to it with each iteration (i.e. each month of data)\n",
    "\n",
    "df = pd.DataFrame()\n",
    "for time in timeframe: \n",
    "    # Create payload and capture API tokens \n",
    "    pytrend.build_payload(keyword, cat=0, timeframe=time,geo=location,gprop='')\n",
    "    # Create dataframe of interest over time\n",
    "    df2 = pytrend.interest_over_time()\n",
    "    # Add new dataframe to df \n",
    "    df = df.append(df2)\n",
    "\n",
    "\n",
    "#Format dataframe:\n",
    "df = df.reset_index()\n",
    "new_date_col = df['date'].dt.dayofyear\n",
    "df.insert(loc=0, column='Date', value=new_date_col)\n",
    "df.insert(loc=1, column='Location', value=location)\n",
    "df = df.drop(columns = ['date', 'isPartial'])\n",
    "keyword_str = ''.join(keyword)\n",
    "df.columns=['Date','Location',f'Search: {keyword_str}']\n",
    "df"
   ]
  },
  {
   "cell_type": "code",
   "execution_count": 12,
   "metadata": {},
   "outputs": [
    {
     "name": "stderr",
     "output_type": "stream",
     "text": [
      "/Library/Frameworks/Python.framework/Versions/3.8/lib/python3.8/site-packages/pandas/core/generic.py:2653: UserWarning: The spaces in these column names will not be changed. In pandas versions < 0.14, spaces were converted to underscores.\n",
      "  sql.to_sql(\n"
     ]
    }
   ],
   "source": [
    "#EXPORTING TO DATABASE:\n",
    "##########################################################\n",
    "import sqlite3\n",
    "from pandas import DataFrame\n",
    "\n",
    "conn = sqlite3.connect('DATABASE.db')\n",
    "c = conn.cursor()\n",
    "conn.commit()\n",
    "\n",
    "try:\n",
    "    #this will fail if there is a new column\n",
    "    df.to_sql(\"Search_Data\",con=conn,if_exists='append',index=False)\n",
    "except:\n",
    "    data = pd.read_sql('SELECT * FROM Search_Data', conn)\n",
    "    \n",
    "    df2 = data.merge(df, on=['Date','Location'], how='left')\n",
    "    df2 = df2.fillna(0)\n",
    "    df2.to_sql(\"Search_Data\", con=conn, if_exists = 'replace', index=False)\n",
    "\n",
    "# conn.close()"
   ]
  },
  {
   "cell_type": "code",
   "execution_count": 38,
   "metadata": {},
   "outputs": [],
   "source": [
    "# EXPORTING TO CSV FILE\n",
    "##########################################################\n",
    "df.to_csv('year_search_data.csv')"
   ]
  },
  {
   "cell_type": "code",
   "execution_count": 45,
   "metadata": {},
   "outputs": [],
   "source": [
    "# EXPORT AS JSON WITH VERTICES/EDGES\n",
    "##########################################################\n",
    "# Create vertices: \n",
    "df_list = df.values.tolist()\n",
    "vertices = { i : df_list[i] for i in range(0, len(df_list) ) }\n",
    "\n",
    "# And edges:\n",
    "edges = []\n",
    "for i in range(1,len(df)):\n",
    "    edge = [str(i-1),str(i)]\n",
    "    edge = edges.append(edge)\n",
    "\n",
    "finaldict = {\"Data\": { \"Vertices\": vertices, \"Edges\": edges}}\n",
    "with open(filename, 'w') as outfile:\n",
    "    json.dump(finaldict, outfile)"
   ]
  }
 ],
 "metadata": {
  "kernelspec": {
   "display_name": "Python 3 (ipykernel)",
   "language": "python",
   "name": "python3"
  },
  "language_info": {
   "codemirror_mode": {
    "name": "ipython",
    "version": 3
   },
   "file_extension": ".py",
   "mimetype": "text/x-python",
   "name": "python",
   "nbconvert_exporter": "python",
   "pygments_lexer": "ipython3",
   "version": "3.8.2"
  }
 },
 "nbformat": 4,
 "nbformat_minor": 4
}
