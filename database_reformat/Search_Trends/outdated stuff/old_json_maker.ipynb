{
 "cells": [
  {
   "cell_type": "code",
   "execution_count": 1,
   "metadata": {},
   "outputs": [],
   "source": [
    "import pandas as pd\n",
    "import json\n",
    "\n"
   ]
  },
  {
   "cell_type": "code",
   "execution_count": 2,
   "metadata": {},
   "outputs": [],
   "source": [
    "# These define the input file names\n",
    "VERTEX_DATA_FILE = \"county_covid_data_OR_25-8-20_prepped.csv\"\n",
    "EDGE_DATA_FILE = \"County edges.csv\"\n",
    "\n",
    "# Import vertex and edge data\n",
    "v_df = pd.read_csv(VERTEX_DATA_FILE)\n",
    "e_df = pd.read_csv(EDGE_DATA_FILE)\n",
    "\n"
   ]
  },
  {
   "cell_type": "code",
   "execution_count": 3,
   "metadata": {},
   "outputs": [],
   "source": [
    "# These define the positions of various data within the v_df dataframe\n",
    "CNTY_LOC = 1\n",
    "DATE_LOC = 0\n",
    "NCASE_LOC = 4\n",
    "NDEATH_LOC = 5\n",
    "\n",
    "# Initialize the graph\n",
    "graph = {\n",
    "    \"or_grph_swf\": {\n",
    "        \"Vertices\": {},\n",
    "        \"Edges\": []\n",
    "    }\n",
    "}\n",
    "\n"
   ]
  },
  {
   "cell_type": "code",
   "execution_count": 4,
   "metadata": {},
   "outputs": [],
   "source": [
    "# Make partition of vertex set based on county\n",
    "cnty_part = {}\n",
    "for i in range(len(v_df.index)):\n",
    "    cnty = v_df.iloc[i, CNTY_LOC]\n",
    "\n",
    "    if cnty not in cnty_part:\n",
    "        cnty_part[cnty] = []\n",
    "\n",
    "    cnty_part[cnty].append(i)\n",
    "\n",
    "# Make dictionary for each county\n",
    "for cnty in cnty_part:\n",
    "    graph[\"or_grph_swf\"][\"Vertices\"][cnty] = {}\n",
    "\n",
    "# populate county dictionaries with vertex data\n",
    "for cnty in graph[\"or_grph_swf\"][\"Vertices\"]:\n",
    "    v_dict = graph[\"or_grph_swf\"][\"Vertices\"][cnty]\n",
    "\n",
    "    for i in range(len(cnty_part[cnty])):\n",
    "        date = v_df.iloc[cnty_part[cnty][i], DATE_LOC]\n",
    "        ncase = v_df.iloc[cnty_part[cnty][i], NCASE_LOC]\n",
    "        ndeath = v_df.iloc[cnty_part[cnty][i], NDEATH_LOC]\n",
    "\n",
    "        v_dict[date] = [int(ncase), int(ndeath)]\n",
    "\n",
    "# Make edge list\n",
    "# The original spreadsheets both had problems.\n",
    "# The latest spreadsheet was missing items.  When I went and got the original spreadsheet\n",
    "# there were repeat edges if one counts nonoriented edges.  To fix this, sort each edge, sort the edge list and then\n",
    "# remove dups by 1) changing the list of lists to a list of tuples, 2) since tuples are hashable\n",
    "# we can now change the list to a set, 3) change the set back to a list.\n",
    "\n"
   ]
  },
  {
   "cell_type": "code",
   "execution_count": 5,
   "metadata": {},
   "outputs": [],
   "source": [
    "#The following is the nice way to do it:\n",
    "broken_edge_list = [[e_df.iloc[i, 0], e_df.iloc[i, 1]] for i in range(len(e_df.index))]\n",
    "nice_edge_list = list(map(sorted, broken_edge_list)) #sort the names on each edge\n",
    "nice_edge_list.sort() #sort the edges\n",
    "nice_edge_list = list(set(map(tuple, nice_edge_list))) #get rid of duplicates\n",
    "\n"
   ]
  },
  {
   "cell_type": "code",
   "execution_count": 6,
   "metadata": {},
   "outputs": [],
   "source": [
    "graph[\"or_grph_swf\"][\"Edges\"] = nice_edge_list\n",
    "\n",
    "# I'm going to do it in a one-liner\n",
    "graph[\"or_grph_swf\"][\"Edges\"] = \\\n",
    " list(set(map(tuple, sorted(list(map(sorted, [[e_df.iloc[i, 0], e_df.iloc[i, 1]] for i in range(len(e_df.index))]))))))\n",
    "\n",
    "\n",
    "\n",
    "# Export dictionary of graphs\n",
    "with open('or_grph_swf.txt', 'w') as file:\n",
    "    json.dump(graph, file)\n"
   ]
  },
  {
   "cell_type": "code",
   "execution_count": null,
   "metadata": {},
   "outputs": [],
   "source": []
  }
 ],
 "metadata": {
  "kernelspec": {
   "display_name": "Python 3",
   "language": "python",
   "name": "python3"
  },
  "language_info": {
   "codemirror_mode": {
    "name": "ipython",
    "version": 3
   },
   "file_extension": ".py",
   "mimetype": "text/x-python",
   "name": "python",
   "nbconvert_exporter": "python",
   "pygments_lexer": "ipython3",
   "version": "3.8.3"
  }
 },
 "nbformat": 4,
 "nbformat_minor": 4
}
