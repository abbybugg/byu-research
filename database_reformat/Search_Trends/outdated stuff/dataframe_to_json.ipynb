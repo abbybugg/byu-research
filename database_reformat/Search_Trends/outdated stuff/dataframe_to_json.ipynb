{
 "cells": [
  {
   "cell_type": "code",
   "execution_count": 1,
   "metadata": {},
   "outputs": [],
   "source": [
    "# Downloads Google Trends data to a dataframe and converts it to a json file.\n",
    "\n",
    "import csv\n",
    "import pandas as pd\n",
    "import json\n",
    "from json import JSONEncoder\n",
    "from pandas import DataFrame\n",
    "from pytrends.request import TrendReq\n",
    "import numpy as np\n",
    "import time\n",
    "import ast\n"
   ]
  },
  {
   "cell_type": "code",
   "execution_count": 2,
   "metadata": {},
   "outputs": [],
   "source": [
    "# Login to Google. Only need to run this once, the rest of requests will use the same session.\n",
    "pytrend = TrendReq(hl='en-US', tz=360)"
   ]
  },
  {
   "cell_type": "code",
   "execution_count": 3,
   "metadata": {},
   "outputs": [],
   "source": [
    "# List of search terms\n",
    "keyword = (['coronavirus', 'covid'])\n",
    "location = ('US-UT')\n",
    "timeframe = ('2020-01-01 2020-01-31',\n",
    "             '2020-02-01 2020-02-28',\n",
    "             '2020-03-01 2020-03-31',\n",
    "             '2020-04-01 2020-04-30', \n",
    "             '2020-05-01 2020-05-31', \n",
    "             '2020-06-01 2020-06-30',\n",
    "             '2020-07-01 2020-07-31',\n",
    "             '2020-08-01 2020-08-31',\n",
    "             '2020-09-01 2020-09-30', \n",
    "             '2020-10-01 2020-10-31',\n",
    "             '2020-11-01 2020-11-23')\n",
    "filename = ('data1.txt')"
   ]
  },
  {
   "cell_type": "code",
   "execution_count": 4,
   "metadata": {},
   "outputs": [],
   "source": [
    "df = pd.DataFrame()"
   ]
  },
  {
   "cell_type": "code",
   "execution_count": 5,
   "metadata": {},
   "outputs": [],
   "source": [
    "# Extract data from Google Trends:\n",
    "\n",
    "for time in timeframe: \n",
    "    # Create payload and capture API tokens \n",
    "     pytrend.build_payload(keyword, cat=0, timeframe=time,geo=location,gprop='')\n",
    "    # Create dataframe of interest over time\n",
    "     df2 = pytrend.interest_over_time()\n",
    "    # Add new dataframe to df \n",
    "     df = df.append(df2)\n",
    "        \n",
    "df = df.reset_index()\n",
    "df=df.drop(labels='isPartial', axis=1)\n"
   ]
  },
  {
   "cell_type": "code",
   "execution_count": 6,
   "metadata": {},
   "outputs": [],
   "source": [
    "# Currently having the issue of we can't put timestamps into the array\n",
    "# we ignore dates for now by using the index as date instead:\n",
    "# (this means we cannot have additional places in one search)\n",
    "if \"date\" in df:\n",
    "    df=df.drop(labels='date', axis=1)\n"
   ]
  },
  {
   "cell_type": "code",
   "execution_count": 7,
   "metadata": {},
   "outputs": [],
   "source": [
    "# Create vertices: \n",
    "df_list = df.values.tolist()\n",
    "vertices = { i : df_list[i] for i in range(0, len(df_list) ) }\n",
    "\n",
    "# And edges:\n",
    "edges = []\n",
    "for i in range(1,len(df)):\n",
    "    edge = [str(i-1),str(i)]\n",
    "    edge = edges.append(edge)\n"
   ]
  },
  {
   "cell_type": "code",
   "execution_count": 8,
   "metadata": {},
   "outputs": [],
   "source": [
    "finaldict = {\"Data\": { \"Vertices\": vertices, \"Edges\": edges}}"
   ]
  },
  {
   "cell_type": "code",
   "execution_count": 9,
   "metadata": {},
   "outputs": [],
   "source": [
    "with open(filename, 'w') as outfile:\n",
    "    json.dump(finaldict, outfile)"
   ]
  },
  {
   "cell_type": "code",
   "execution_count": 10,
   "metadata": {},
   "outputs": [],
   "source": [
    "# If I ever figure out doing more than one location:\n",
    "\n",
    "#for place in location:\n",
    "    # for time in timeframe: \n",
    "        # Create payload and capture API tokens \n",
    "        # pytrend.build_payload(keyword, cat=0, timeframe=time,geo=location,gprop='')\n",
    "        # Create dataframe of interest over time\n",
    "        # df2 = pytrend.interest_over_time()\n",
    "        # add location to df:\n",
    "        # df2['location'] = place\n",
    "    # Append new dataframe onto df \n",
    "    # df = df.append(df2)\n"
   ]
  }
 ],
 "metadata": {
  "kernelspec": {
   "display_name": "Python 3",
   "language": "python",
   "name": "python3"
  },
  "language_info": {
   "codemirror_mode": {
    "name": "ipython",
    "version": 3
   },
   "file_extension": ".py",
   "mimetype": "text/x-python",
   "name": "python",
   "nbconvert_exporter": "python",
   "pygments_lexer": "ipython3",
   "version": "3.8.3"
  }
 },
 "nbformat": 4,
 "nbformat_minor": 4
}
