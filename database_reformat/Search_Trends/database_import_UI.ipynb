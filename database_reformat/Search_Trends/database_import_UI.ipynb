{
 "cells": [
  {
   "cell_type": "code",
   "execution_count": 1,
   "metadata": {},
   "outputs": [],
   "source": [
    "from tkinter import *\n",
    "import tkinter.ttk as ttk\n",
    "import csv\n",
    "\n",
    "\n",
    "#DROPDOWN:\n",
    "master = Tk()\n",
    "variable = StringVar(master)\n",
    "variable.set(\"Choose\") # default value\n",
    "dropdown = OptionMenu(master, variable, \"Date\", \"Location\", \"Search\")\n",
    "dropdown.pack()\n",
    "\n",
    "\n",
    "mainloop()"
   ]
  },
  {
   "cell_type": "code",
   "execution_count": 2,
   "metadata": {},
   "outputs": [
    {
     "name": "stdout",
     "output_type": "stream",
     "text": [
      "Date\n",
      "Search Popularity\n",
      "Location\n"
     ]
    }
   ],
   "source": [
    "# Make a menu which collects names here:\n",
    "column_names = ['Date','Search Popularity','Location']\n",
    "\n",
    "\n",
    "col1 = 'Date'\n",
    "col2 = 'Search Popularity'\n",
    "col3 = 'Location'\n",
    "\n",
    "for i in range(0, len(column_names)):\n",
    "    print(column_names[i])\n"
   ]
  },
  {
   "cell_type": "code",
   "execution_count": 3,
   "metadata": {},
   "outputs": [],
   "source": [
    "# root = Tk()\n",
    "# root.title(\"Python - Import CSV File To Tkinter Table\")\n",
    "# width = 500\n",
    "# height = 400\n",
    "# screen_width = root.winfo_screenwidth()\n",
    "# screen_height = root.winfo_screenheight()\n",
    "# x = (screen_width / 2) - (width / 2)\n",
    "# y = (screen_height / 2) - (height / 2)\n",
    "# root.geometry(\"%dx%d+%d+%d\" % (width, height, x, y))\n",
    "# root.resizable(0, 0)\n",
    "\n",
    "# TableMargin = Frame(root, width=500)\n",
    "# TableMargin.pack(side=TOP)\n",
    "\n",
    "# scrollbarx = Scrollbar(TableMargin, orient=HORIZONTAL)\n",
    "# scrollbary = Scrollbar(TableMargin, orient=VERTICAL)\n",
    "\n"
   ]
  },
  {
   "cell_type": "code",
   "execution_count": 4,
   "metadata": {},
   "outputs": [],
   "source": [
    "# for i in range(0, len(column_names)):\n",
    "#     tree = ttk.Treeview(TableMargin, columns=('Date','Search Popularity', 'Location'), height=400, selectmode=\"extended\",\n",
    "#                      yscrollcommand=scrollbary.set, xscrollcommand=scrollbarx.set)\n",
    "# scrollbary.config(command=tree.yview)\n",
    "# scrollbary.pack(side=RIGHT, fill=Y)\n",
    "# scrollbarx.config(command=tree.xview)\n",
    "# scrollbarx.pack(side=BOTTOM, fill=X)\n",
    "# tree.pack()\n",
    "# #mainloop()\n"
   ]
  },
  {
   "cell_type": "code",
   "execution_count": 5,
   "metadata": {},
   "outputs": [
    {
     "ename": "TclError",
     "evalue": "Invalid column index .!optionmenu",
     "output_type": "error",
     "traceback": [
      "\u001b[0;31m---------------------------------------------------------------------------\u001b[0m",
      "\u001b[0;31mTclError\u001b[0m                                  Traceback (most recent call last)",
      "\u001b[0;32m<ipython-input-5-bb153a3b3201>\u001b[0m in \u001b[0;36m<module>\u001b[0;34m\u001b[0m\n\u001b[1;32m      1\u001b[0m \u001b[0;31m#for column in column_names:\u001b[0m\u001b[0;34m\u001b[0m\u001b[0;34m\u001b[0m\u001b[0;34m\u001b[0m\u001b[0m\n\u001b[1;32m      2\u001b[0m \u001b[0;31m#    tree.heading(column, text=str(column), anchor=W)\u001b[0m\u001b[0;34m\u001b[0m\u001b[0;34m\u001b[0m\u001b[0;34m\u001b[0m\u001b[0m\n\u001b[0;32m----> 3\u001b[0;31m \u001b[0mtree\u001b[0m\u001b[0;34m.\u001b[0m\u001b[0mheading\u001b[0m\u001b[0;34m(\u001b[0m\u001b[0mdropdown\u001b[0m\u001b[0;34m,\u001b[0m \u001b[0mtext\u001b[0m\u001b[0;34m=\u001b[0m\u001b[0;34m\"Date\"\u001b[0m\u001b[0;34m,\u001b[0m \u001b[0manchor\u001b[0m\u001b[0;34m=\u001b[0m\u001b[0mW\u001b[0m\u001b[0;34m)\u001b[0m\u001b[0;34m\u001b[0m\u001b[0;34m\u001b[0m\u001b[0m\n\u001b[0m\u001b[1;32m      4\u001b[0m \u001b[0mtree\u001b[0m\u001b[0;34m.\u001b[0m\u001b[0mheading\u001b[0m\u001b[0;34m(\u001b[0m\u001b[0;34m'Search Popularity'\u001b[0m\u001b[0;34m,\u001b[0m \u001b[0mtext\u001b[0m\u001b[0;34m=\u001b[0m\u001b[0;34m\"Search Popularity\"\u001b[0m\u001b[0;34m,\u001b[0m \u001b[0manchor\u001b[0m\u001b[0;34m=\u001b[0m\u001b[0mW\u001b[0m\u001b[0;34m)\u001b[0m\u001b[0;34m\u001b[0m\u001b[0;34m\u001b[0m\u001b[0m\n\u001b[1;32m      5\u001b[0m \u001b[0mtree\u001b[0m\u001b[0;34m.\u001b[0m\u001b[0mheading\u001b[0m\u001b[0;34m(\u001b[0m\u001b[0;34m'Location'\u001b[0m\u001b[0;34m,\u001b[0m \u001b[0mtext\u001b[0m\u001b[0;34m=\u001b[0m\u001b[0;34m\"Location\"\u001b[0m\u001b[0;34m,\u001b[0m \u001b[0manchor\u001b[0m\u001b[0;34m=\u001b[0m\u001b[0mW\u001b[0m\u001b[0;34m)\u001b[0m\u001b[0;34m\u001b[0m\u001b[0;34m\u001b[0m\u001b[0m\n",
      "\u001b[0;32m/Library/Frameworks/Python.framework/Versions/3.8/lib/python3.8/tkinter/ttk.py\u001b[0m in \u001b[0;36mheading\u001b[0;34m(self, column, option, **kw)\u001b[0m\n\u001b[1;32m   1302\u001b[0m             \u001b[0mkw\u001b[0m\u001b[0;34m[\u001b[0m\u001b[0moption\u001b[0m\u001b[0;34m]\u001b[0m \u001b[0;34m=\u001b[0m \u001b[0;32mNone\u001b[0m\u001b[0;34m\u001b[0m\u001b[0;34m\u001b[0m\u001b[0m\n\u001b[1;32m   1303\u001b[0m \u001b[0;34m\u001b[0m\u001b[0m\n\u001b[0;32m-> 1304\u001b[0;31m         \u001b[0;32mreturn\u001b[0m \u001b[0m_val_or_dict\u001b[0m\u001b[0;34m(\u001b[0m\u001b[0mself\u001b[0m\u001b[0;34m.\u001b[0m\u001b[0mtk\u001b[0m\u001b[0;34m,\u001b[0m \u001b[0mkw\u001b[0m\u001b[0;34m,\u001b[0m \u001b[0mself\u001b[0m\u001b[0;34m.\u001b[0m\u001b[0m_w\u001b[0m\u001b[0;34m,\u001b[0m \u001b[0;34m'heading'\u001b[0m\u001b[0;34m,\u001b[0m \u001b[0mcolumn\u001b[0m\u001b[0;34m)\u001b[0m\u001b[0;34m\u001b[0m\u001b[0;34m\u001b[0m\u001b[0m\n\u001b[0m\u001b[1;32m   1305\u001b[0m \u001b[0;34m\u001b[0m\u001b[0m\n\u001b[1;32m   1306\u001b[0m \u001b[0;34m\u001b[0m\u001b[0m\n",
      "\u001b[0;32m/Library/Frameworks/Python.framework/Versions/3.8/lib/python3.8/tkinter/ttk.py\u001b[0m in \u001b[0;36m_val_or_dict\u001b[0;34m(tk, options, *args)\u001b[0m\n\u001b[1;32m    295\u001b[0m     shouldn't be expecting a return value anyway.\"\"\"\n\u001b[1;32m    296\u001b[0m     \u001b[0moptions\u001b[0m \u001b[0;34m=\u001b[0m \u001b[0m_format_optdict\u001b[0m\u001b[0;34m(\u001b[0m\u001b[0moptions\u001b[0m\u001b[0;34m)\u001b[0m\u001b[0;34m\u001b[0m\u001b[0;34m\u001b[0m\u001b[0m\n\u001b[0;32m--> 297\u001b[0;31m     \u001b[0mres\u001b[0m \u001b[0;34m=\u001b[0m \u001b[0mtk\u001b[0m\u001b[0;34m.\u001b[0m\u001b[0mcall\u001b[0m\u001b[0;34m(\u001b[0m\u001b[0;34m*\u001b[0m\u001b[0;34m(\u001b[0m\u001b[0margs\u001b[0m \u001b[0;34m+\u001b[0m \u001b[0moptions\u001b[0m\u001b[0;34m)\u001b[0m\u001b[0;34m)\u001b[0m\u001b[0;34m\u001b[0m\u001b[0;34m\u001b[0m\u001b[0m\n\u001b[0m\u001b[1;32m    298\u001b[0m \u001b[0;34m\u001b[0m\u001b[0m\n\u001b[1;32m    299\u001b[0m     \u001b[0;32mif\u001b[0m \u001b[0mlen\u001b[0m\u001b[0;34m(\u001b[0m\u001b[0moptions\u001b[0m\u001b[0;34m)\u001b[0m \u001b[0;34m%\u001b[0m \u001b[0;36m2\u001b[0m\u001b[0;34m:\u001b[0m \u001b[0;31m# option specified without a value, return its value\u001b[0m\u001b[0;34m\u001b[0m\u001b[0;34m\u001b[0m\u001b[0m\n",
      "\u001b[0;31mTclError\u001b[0m: Invalid column index .!optionmenu"
     ]
    }
   ],
   "source": [
    "# #for column in column_names:\n",
    "# #    tree.heading(column, text=str(column), anchor=W)\n",
    "# tree.heading(dropdown, text=\"Date\", anchor=W)\n",
    "# tree.heading('Search Popularity', text=\"Search Popularity\", anchor=W)\n",
    "# tree.heading('Location', text=\"Location\", anchor=W)\n",
    "\n",
    "# tree.column('#0', stretch=NO, minwidth=0, width=0)\n",
    "# for column in column_names:\n",
    "#     tree.column(column, stretch=NO,minwidth=0)\n",
    "# tree.pack()\n",
    "\n",
    "\n",
    "# with open('year_search_data.csv') as f:\n",
    "#     reader = csv.DictReader(f, delimiter=',')\n",
    "#     for row in reader:\n",
    "#         emp_id = row['Date']\n",
    "#         name = row['Search Popularity']\n",
    "#         dt = row['Location']\n",
    "#         tree.insert(\"\", 0, values=(emp_id, name, dt))\n",
    "# root.mainloop()"
   ]
  },
  {
   "cell_type": "code",
   "execution_count": 6,
   "metadata": {},
   "outputs": [
    {
     "name": "stdout",
     "output_type": "stream",
     "text": [
      "Date\n"
     ]
    }
   ],
   "source": [
    "print(col1)"
   ]
  },
  {
   "cell_type": "code",
   "execution_count": null,
   "metadata": {},
   "outputs": [],
   "source": []
  },
  {
   "cell_type": "code",
   "execution_count": null,
   "metadata": {},
   "outputs": [],
   "source": []
  },
  {
   "cell_type": "code",
   "execution_count": null,
   "metadata": {},
   "outputs": [],
   "source": []
  },
  {
   "cell_type": "code",
   "execution_count": null,
   "metadata": {},
   "outputs": [],
   "source": []
  },
  {
   "cell_type": "code",
   "execution_count": null,
   "metadata": {},
   "outputs": [],
   "source": []
  },
  {
   "cell_type": "code",
   "execution_count": null,
   "metadata": {},
   "outputs": [],
   "source": []
  },
  {
   "cell_type": "code",
   "execution_count": 18,
   "metadata": {},
   "outputs": [],
   "source": [
    "import sqlite3\n",
    "from sqlite3 import Error\n",
    "\n",
    "\n",
    "def create_connection(db_file):\n",
    "    \"\"\" create a database connection to a SQLite database \"\"\"\n",
    "    conn = None\n",
    "    try:\n",
    "        conn = sqlite3.connect(db_file)\n",
    "    except Error as e:\n",
    "        print(Error)\n",
    "    finally:\n",
    "        if conn:\n",
    "            conn.close()\n",
    "\n",
    "\n",
    "if __name__ == '__main__':\n",
    "    create_connection(r\"DATABASE.db\")"
   ]
  },
  {
   "cell_type": "code",
   "execution_count": 21,
   "metadata": {},
   "outputs": [
    {
     "data": {
      "text/plain": [
       "<sqlite3.Cursor at 0x7fc0f3468ab0>"
      ]
     },
     "execution_count": 21,
     "metadata": {},
     "output_type": "execute_result"
    }
   ],
   "source": [
    "import csv, sqlite3\n",
    "\n",
    "\n",
    "bt = Button(tess, text='browse file', command=browse_file)\n",
    "bt.place(x=10, y=10)\n",
    "\n",
    "bt = Button(tess, text='import file', command=import_file)\n",
    "bt.place(x=10, y=45)\n",
    "\n",
    "\n",
    "col1 = 'Date'\n",
    "col2 = 'Search Popularity'\n",
    "col3 = 'Location'\n",
    "\n",
    "con = sqlite3.connect('DATABASE.db') # change to 'sqlite:///your_filename.db'\n",
    "cur = con.cursor()\n",
    "cur.execute(\"CREATE TABLE t (col1, col2, col3);\") # use your column names here"
   ]
  },
  {
   "cell_type": "code",
   "execution_count": 22,
   "metadata": {},
   "outputs": [],
   "source": [
    "with open('year_search_data.csv','r') as fin: # `with` statement available in 2.5+\n",
    "    # csv.DictReader uses first line in file for column headings by default\n",
    "    dr = csv.DictReader(fin) # comma is default delimiter\n",
    "    to_db = [(i[col1], i[col2], i[col3]) for i in dr]"
   ]
  },
  {
   "cell_type": "code",
   "execution_count": 23,
   "metadata": {},
   "outputs": [
    {
     "name": "stdout",
     "output_type": "stream",
     "text": [
      "[('2020-01-01', '0', 'US-CA'), ('2020-01-02', '0', 'US-CA'), ('2020-01-03', '0', 'US-CA'), ('2020-01-04', '0', 'US-CA'), ('2020-01-05', '0', 'US-CA'), ('2020-01-06', '0', 'US-CA'), ('2020-01-07', '0', 'US-CA'), ('2020-01-08', '0', 'US-CA'), ('2020-01-09', '0', 'US-CA'), ('2020-01-10', '0', 'US-CA'), ('2020-01-11', '0', 'US-CA'), ('2020-01-12', '0', 'US-CA'), ('2020-01-13', '0', 'US-CA'), ('2020-01-14', '0', 'US-CA'), ('2020-01-15', '0', 'US-CA'), ('2020-01-16', '0', 'US-CA'), ('2020-01-17', '1', 'US-CA'), ('2020-01-18', '2', 'US-CA'), ('2020-01-19', '1', 'US-CA'), ('2020-01-20', '2', 'US-CA'), ('2020-01-21', '16', 'US-CA'), ('2020-01-22', '22', 'US-CA'), ('2020-01-23', '30', 'US-CA'), ('2020-01-24', '47', 'US-CA'), ('2020-01-25', '56', 'US-CA'), ('2020-01-26', '90', 'US-CA'), ('2020-01-27', '90', 'US-CA'), ('2020-01-28', '100', 'US-CA'), ('2020-01-29', '94', 'US-CA'), ('2020-01-30', '91', 'US-CA'), ('2020-01-31', '94', 'US-CA'), ('2020-02-01', '62', 'US-CA'), ('2020-02-02', '45', 'US-CA'), ('2020-02-03', '44', 'US-CA'), ('2020-02-04', '38', 'US-CA'), ('2020-02-05', '34', 'US-CA'), ('2020-02-06', '36', 'US-CA'), ('2020-02-07', '36', 'US-CA'), ('2020-02-08', '36', 'US-CA'), ('2020-02-09', '30', 'US-CA'), ('2020-02-10', '29', 'US-CA'), ('2020-02-11', '32', 'US-CA'), ('2020-02-12', '24', 'US-CA'), ('2020-02-13', '27', 'US-CA'), ('2020-02-14', '23', 'US-CA'), ('2020-02-15', '22', 'US-CA'), ('2020-02-16', '21', 'US-CA'), ('2020-02-17', '22', 'US-CA'), ('2020-02-18', '21', 'US-CA'), ('2020-02-19', '19', 'US-CA'), ('2020-02-20', '18', 'US-CA'), ('2020-02-21', '21', 'US-CA'), ('2020-02-22', '27', 'US-CA'), ('2020-02-23', '28', 'US-CA'), ('2020-02-24', '38', 'US-CA'), ('2020-02-25', '51', 'US-CA'), ('2020-02-26', '75', 'US-CA'), ('2020-02-27', '100', 'US-CA'), ('2020-02-28', '98', 'US-CA'), ('2020-03-01', '22', 'US-CA'), ('2020-03-02', '27', 'US-CA'), ('2020-03-03', '26', 'US-CA'), ('2020-03-04', '30', 'US-CA'), ('2020-03-05', '36', 'US-CA'), ('2020-03-06', '36', 'US-CA'), ('2020-03-07', '35', 'US-CA'), ('2020-03-08', '33', 'US-CA'), ('2020-03-09', '39', 'US-CA'), ('2020-03-10', '45', 'US-CA'), ('2020-03-11', '52', 'US-CA'), ('2020-03-12', '96', 'US-CA'), ('2020-03-13', '89', 'US-CA'), ('2020-03-14', '86', 'US-CA'), ('2020-03-15', '99', 'US-CA'), ('2020-03-16', '100', 'US-CA'), ('2020-03-17', '88', 'US-CA'), ('2020-03-18', '81', 'US-CA'), ('2020-03-19', '75', 'US-CA'), ('2020-03-20', '81', 'US-CA'), ('2020-03-21', '74', 'US-CA'), ('2020-03-22', '76', 'US-CA'), ('2020-03-23', '70', 'US-CA'), ('2020-03-24', '63', 'US-CA'), ('2020-03-25', '59', 'US-CA'), ('2020-03-26', '61', 'US-CA'), ('2020-03-27', '63', 'US-CA'), ('2020-03-28', '62', 'US-CA'), ('2020-03-29', '60', 'US-CA'), ('2020-03-30', '53', 'US-CA'), ('2020-03-31', '49', 'US-CA'), ('2020-04-01', '77', 'US-CA'), ('2020-04-02', '74', 'US-CA'), ('2020-04-03', '95', 'US-CA'), ('2020-04-04', '99', 'US-CA'), ('2020-04-05', '100', 'US-CA'), ('2020-04-06', '99', 'US-CA'), ('2020-04-07', '95', 'US-CA'), ('2020-04-08', '87', 'US-CA'), ('2020-04-09', '83', 'US-CA'), ('2020-04-10', '79', 'US-CA'), ('2020-04-11', '61', 'US-CA'), ('2020-04-12', '51', 'US-CA'), ('2020-04-13', '71', 'US-CA'), ('2020-04-14', '76', 'US-CA'), ('2020-04-15', '71', 'US-CA'), ('2020-04-16', '66', 'US-CA'), ('2020-04-17', '69', 'US-CA'), ('2020-04-18', '73', 'US-CA'), ('2020-04-19', '52', 'US-CA'), ('2020-04-20', '60', 'US-CA'), ('2020-04-21', '64', 'US-CA'), ('2020-04-22', '43', 'US-CA'), ('2020-04-23', '58', 'US-CA'), ('2020-04-24', '62', 'US-CA'), ('2020-04-25', '43', 'US-CA'), ('2020-04-26', '34', 'US-CA'), ('2020-04-27', '35', 'US-CA'), ('2020-04-28', '32', 'US-CA'), ('2020-04-29', '31', 'US-CA'), ('2020-04-30', '29', 'US-CA'), ('2020-05-01', '97', 'US-CA'), ('2020-05-02', '100', 'US-CA'), ('2020-05-03', '97', 'US-CA'), ('2020-05-04', '99', 'US-CA'), ('2020-05-05', '92', 'US-CA'), ('2020-05-06', '87', 'US-CA'), ('2020-05-07', '88', 'US-CA'), ('2020-05-08', '80', 'US-CA'), ('2020-05-09', '86', 'US-CA'), ('2020-05-10', '84', 'US-CA'), ('2020-05-11', '85', 'US-CA'), ('2020-05-12', '88', 'US-CA'), ('2020-05-13', '84', 'US-CA'), ('2020-05-14', '81', 'US-CA'), ('2020-05-15', '77', 'US-CA'), ('2020-05-16', '81', 'US-CA'), ('2020-05-17', '79', 'US-CA'), ('2020-05-18', '79', 'US-CA'), ('2020-05-19', '66', 'US-CA'), ('2020-05-20', '64', 'US-CA'), ('2020-05-21', '67', 'US-CA'), ('2020-05-22', '61', 'US-CA'), ('2020-05-23', '63', 'US-CA'), ('2020-05-24', '65', 'US-CA'), ('2020-05-25', '66', 'US-CA'), ('2020-05-26', '67', 'US-CA'), ('2020-05-27', '63', 'US-CA'), ('2020-05-28', '56', 'US-CA'), ('2020-05-29', '51', 'US-CA'), ('2020-05-30', '49', 'US-CA'), ('2020-05-31', '44', 'US-CA'), ('2020-06-01', '60', 'US-CA'), ('2020-06-02', '58', 'US-CA'), ('2020-06-03', '57', 'US-CA'), ('2020-06-04', '57', 'US-CA'), ('2020-06-05', '61', 'US-CA'), ('2020-06-06', '60', 'US-CA'), ('2020-06-07', '60', 'US-CA'), ('2020-06-08', '63', 'US-CA'), ('2020-06-09', '64', 'US-CA'), ('2020-06-10', '67', 'US-CA'), ('2020-06-11', '65', 'US-CA'), ('2020-06-12', '63', 'US-CA'), ('2020-06-13', '61', 'US-CA'), ('2020-06-14', '60', 'US-CA'), ('2020-06-15', '65', 'US-CA'), ('2020-06-16', '62', 'US-CA'), ('2020-06-17', '63', 'US-CA'), ('2020-06-18', '64', 'US-CA'), ('2020-06-19', '66', 'US-CA'), ('2020-06-20', '64', 'US-CA'), ('2020-06-21', '61', 'US-CA'), ('2020-06-22', '71', 'US-CA'), ('2020-06-23', '70', 'US-CA'), ('2020-06-24', '80', 'US-CA'), ('2020-06-25', '88', 'US-CA'), ('2020-06-26', '97', 'US-CA'), ('2020-06-27', '92', 'US-CA'), ('2020-06-28', '87', 'US-CA'), ('2020-06-29', '90', 'US-CA'), ('2020-06-30', '100', 'US-CA'), ('2020-07-01', '97', 'US-CA'), ('2020-07-02', '93', 'US-CA'), ('2020-07-03', '83', 'US-CA'), ('2020-07-04', '79', 'US-CA'), ('2020-07-05', '77', 'US-CA'), ('2020-07-06', '83', 'US-CA'), ('2020-07-07', '81', 'US-CA'), ('2020-07-08', '80', 'US-CA'), ('2020-07-09', '75', 'US-CA'), ('2020-07-10', '77', 'US-CA'), ('2020-07-11', '76', 'US-CA'), ('2020-07-12', '75', 'US-CA'), ('2020-07-13', '100', 'US-CA'), ('2020-07-14', '100', 'US-CA'), ('2020-07-15', '76', 'US-CA'), ('2020-07-16', '67', 'US-CA'), ('2020-07-17', '67', 'US-CA'), ('2020-07-18', '61', 'US-CA'), ('2020-07-19', '62', 'US-CA'), ('2020-07-20', '62', 'US-CA'), ('2020-07-21', '60', 'US-CA'), ('2020-07-22', '60', 'US-CA'), ('2020-07-23', '57', 'US-CA'), ('2020-07-24', '53', 'US-CA'), ('2020-07-25', '49', 'US-CA'), ('2020-07-26', '52', 'US-CA'), ('2020-07-27', '54', 'US-CA'), ('2020-07-28', '49', 'US-CA'), ('2020-07-29', '51', 'US-CA'), ('2020-07-30', '49', 'US-CA'), ('2020-07-31', '47', 'US-CA'), ('2020-08-01', '94', 'US-CA'), ('2020-08-02', '100', 'US-CA'), ('2020-08-03', '94', 'US-CA'), ('2020-08-04', '94', 'US-CA'), ('2020-08-05', '91', 'US-CA'), ('2020-08-06', '86', 'US-CA'), ('2020-08-07', '88', 'US-CA'), ('2020-08-08', '84', 'US-CA'), ('2020-08-09', '86', 'US-CA'), ('2020-08-10', '82', 'US-CA'), ('2020-08-11', '79', 'US-CA'), ('2020-08-12', '75', 'US-CA'), ('2020-08-13', '76', 'US-CA'), ('2020-08-14', '73', 'US-CA'), ('2020-08-15', '71', 'US-CA'), ('2020-08-16', '70', 'US-CA'), ('2020-08-17', '66', 'US-CA'), ('2020-08-18', '68', 'US-CA'), ('2020-08-19', '62', 'US-CA'), ('2020-08-20', '56', 'US-CA'), ('2020-08-21', '57', 'US-CA'), ('2020-08-22', '59', 'US-CA'), ('2020-08-23', '60', 'US-CA'), ('2020-08-24', '55', 'US-CA'), ('2020-08-25', '56', 'US-CA'), ('2020-08-26', '53', 'US-CA'), ('2020-08-27', '54', 'US-CA'), ('2020-08-28', '59', 'US-CA'), ('2020-08-29', '59', 'US-CA'), ('2020-08-30', '63', 'US-CA'), ('2020-08-31', '63', 'US-CA'), ('2020-09-01', '100', 'US-CA'), ('2020-09-02', '95', 'US-CA'), ('2020-09-03', '97', 'US-CA'), ('2020-09-04', '87', 'US-CA'), ('2020-09-05', '92', 'US-CA'), ('2020-09-06', '86', 'US-CA'), ('2020-09-07', '91', 'US-CA'), ('2020-09-08', '94', 'US-CA'), ('2020-09-09', '94', 'US-CA'), ('2020-09-10', '91', 'US-CA'), ('2020-09-11', '87', 'US-CA'), ('2020-09-12', '87', 'US-CA'), ('2020-09-13', '79', 'US-CA'), ('2020-09-14', '85', 'US-CA'), ('2020-09-15', '85', 'US-CA'), ('2020-09-16', '88', 'US-CA'), ('2020-09-17', '87', 'US-CA'), ('2020-09-18', '80', 'US-CA'), ('2020-09-19', '76', 'US-CA'), ('2020-09-20', '82', 'US-CA'), ('2020-09-21', '91', 'US-CA'), ('2020-09-22', '94', 'US-CA'), ('2020-09-23', '85', 'US-CA'), ('2020-09-24', '75', 'US-CA'), ('2020-09-25', '78', 'US-CA'), ('2020-09-26', '81', 'US-CA'), ('2020-09-27', '73', 'US-CA'), ('2020-09-28', '78', 'US-CA'), ('2020-09-29', '84', 'US-CA'), ('2020-09-30', '72', 'US-CA'), ('2020-10-01', '42', 'US-CA'), ('2020-10-02', '100', 'US-CA'), ('2020-10-03', '71', 'US-CA'), ('2020-10-04', '57', 'US-CA'), ('2020-10-05', '58', 'US-CA'), ('2020-10-06', '53', 'US-CA'), ('2020-10-07', '49', 'US-CA'), ('2020-10-08', '44', 'US-CA'), ('2020-10-09', '45', 'US-CA'), ('2020-10-10', '46', 'US-CA'), ('2020-10-11', '46', 'US-CA'), ('2020-10-12', '41', 'US-CA'), ('2020-10-13', '47', 'US-CA'), ('2020-10-14', '45', 'US-CA'), ('2020-10-15', '48', 'US-CA'), ('2020-10-16', '46', 'US-CA'), ('2020-10-17', '46', 'US-CA'), ('2020-10-18', '45', 'US-CA'), ('2020-10-19', '46', 'US-CA'), ('2020-10-20', '50', 'US-CA'), ('2020-10-21', '53', 'US-CA'), ('2020-10-22', '46', 'US-CA'), ('2020-10-23', '47', 'US-CA'), ('2020-10-24', '52', 'US-CA'), ('2020-10-25', '47', 'US-CA'), ('2020-10-26', '51', 'US-CA'), ('2020-10-27', '50', 'US-CA'), ('2020-10-28', '51', 'US-CA'), ('2020-10-29', '52', 'US-CA'), ('2020-10-30', '53', 'US-CA'), ('2020-10-31', '55', 'US-CA'), ('2020-11-01', '67', 'US-CA'), ('2020-11-02', '66', 'US-CA'), ('2020-11-03', '56', 'US-CA'), ('2020-11-04', '33', 'US-CA'), ('2020-11-05', '44', 'US-CA'), ('2020-11-06', '47', 'US-CA'), ('2020-11-07', '53', 'US-CA'), ('2020-11-08', '55', 'US-CA'), ('2020-11-09', '64', 'US-CA'), ('2020-11-10', '76', 'US-CA'), ('2020-11-11', '88', 'US-CA'), ('2020-11-12', '87', 'US-CA'), ('2020-11-13', '90', 'US-CA'), ('2020-11-14', '100', 'US-CA'), ('2020-11-15', '92', 'US-CA')]\n"
     ]
    }
   ],
   "source": [
    "cur.executemany(\"INSERT INTO t (col1, col2, col3) VALUES (?, ?, ?);\", to_db)\n",
    "cur.execute(\"select * from t\")\n",
    "results = cur.fetchall()\n",
    "print(results)"
   ]
  },
  {
   "cell_type": "code",
   "execution_count": 10,
   "metadata": {},
   "outputs": [
    {
     "ename": "ProgrammingError",
     "evalue": "Cannot operate on a closed database.",
     "output_type": "error",
     "traceback": [
      "\u001b[0;31m---------------------------------------------------------------------------\u001b[0m",
      "\u001b[0;31mProgrammingError\u001b[0m                          Traceback (most recent call last)",
      "\u001b[0;32m<ipython-input-10-54be7d711c0e>\u001b[0m in \u001b[0;36m<module>\u001b[0;34m\u001b[0m\n\u001b[0;32m----> 1\u001b[0;31m \u001b[0mresults\u001b[0m \u001b[0;34m=\u001b[0m \u001b[0mcur\u001b[0m\u001b[0;34m.\u001b[0m\u001b[0mfetchall\u001b[0m\u001b[0;34m(\u001b[0m\u001b[0;34m)\u001b[0m\u001b[0;34m\u001b[0m\u001b[0;34m\u001b[0m\u001b[0m\n\u001b[0m\u001b[1;32m      2\u001b[0m \u001b[0mprint\u001b[0m\u001b[0;34m(\u001b[0m\u001b[0mresults\u001b[0m\u001b[0;34m)\u001b[0m\u001b[0;34m\u001b[0m\u001b[0;34m\u001b[0m\u001b[0m\n",
      "\u001b[0;31mProgrammingError\u001b[0m: Cannot operate on a closed database."
     ]
    }
   ],
   "source": [
    "con.commit()\n",
    "con.close()"
   ]
  },
  {
   "cell_type": "code",
   "execution_count": 10,
   "metadata": {},
   "outputs": [],
   "source": [
    "from tkinter import *\n",
    "import tkinter as tk\n",
    "from tkinter import ttk\n",
    "from tkinter import messagebox, filedialog\n",
    "import csv\n",
    "import os\n",
    "import sqlite3"
   ]
  },
  {
   "cell_type": "code",
   "execution_count": 12,
   "metadata": {},
   "outputs": [
    {
     "ename": "TclError",
     "evalue": "Column index 1 out of bounds",
     "output_type": "error",
     "traceback": [
      "\u001b[0;31m---------------------------------------------------------------------------\u001b[0m",
      "\u001b[0;31mTclError\u001b[0m                                  Traceback (most recent call last)",
      "\u001b[0;32m<ipython-input-12-57881b4f2038>\u001b[0m in \u001b[0;36m<module>\u001b[0;34m\u001b[0m\n\u001b[1;32m    131\u001b[0m \u001b[0mtrv\u001b[0m\u001b[0;34m.\u001b[0m\u001b[0mpack\u001b[0m\u001b[0;34m(\u001b[0m\u001b[0;34m)\u001b[0m\u001b[0;34m\u001b[0m\u001b[0;34m\u001b[0m\u001b[0m\n\u001b[1;32m    132\u001b[0m \u001b[0;34m\u001b[0m\u001b[0m\n\u001b[0;32m--> 133\u001b[0;31m \u001b[0mtrv\u001b[0m\u001b[0;34m.\u001b[0m\u001b[0mheading\u001b[0m\u001b[0;34m(\u001b[0m\u001b[0;36m1\u001b[0m\u001b[0;34m,\u001b[0m\u001b[0mtext\u001b[0m\u001b[0;34m=\u001b[0m\u001b[0;34m\"Customer ID\"\u001b[0m\u001b[0;34m)\u001b[0m\u001b[0;34m\u001b[0m\u001b[0;34m\u001b[0m\u001b[0m\n\u001b[0m\u001b[1;32m    134\u001b[0m \u001b[0mtrv\u001b[0m\u001b[0;34m.\u001b[0m\u001b[0mheading\u001b[0m\u001b[0;34m(\u001b[0m\u001b[0;36m2\u001b[0m\u001b[0;34m,\u001b[0m \u001b[0mtext\u001b[0m\u001b[0;34m=\u001b[0m\u001b[0;34m\"First Name\"\u001b[0m\u001b[0;34m)\u001b[0m\u001b[0;34m\u001b[0m\u001b[0;34m\u001b[0m\u001b[0m\n\u001b[1;32m    135\u001b[0m \u001b[0mtrv\u001b[0m\u001b[0;34m.\u001b[0m\u001b[0mheading\u001b[0m\u001b[0;34m(\u001b[0m\u001b[0;36m3\u001b[0m\u001b[0;34m,\u001b[0m\u001b[0mtext\u001b[0m\u001b[0;34m=\u001b[0m\u001b[0;34m\"Last Name\"\u001b[0m\u001b[0;34m)\u001b[0m\u001b[0;34m\u001b[0m\u001b[0;34m\u001b[0m\u001b[0m\n",
      "\u001b[0;32m/Library/Frameworks/Python.framework/Versions/3.8/lib/python3.8/tkinter/ttk.py\u001b[0m in \u001b[0;36mheading\u001b[0;34m(self, column, option, **kw)\u001b[0m\n\u001b[1;32m   1302\u001b[0m             \u001b[0mkw\u001b[0m\u001b[0;34m[\u001b[0m\u001b[0moption\u001b[0m\u001b[0;34m]\u001b[0m \u001b[0;34m=\u001b[0m \u001b[0;32mNone\u001b[0m\u001b[0;34m\u001b[0m\u001b[0;34m\u001b[0m\u001b[0m\n\u001b[1;32m   1303\u001b[0m \u001b[0;34m\u001b[0m\u001b[0m\n\u001b[0;32m-> 1304\u001b[0;31m         \u001b[0;32mreturn\u001b[0m \u001b[0m_val_or_dict\u001b[0m\u001b[0;34m(\u001b[0m\u001b[0mself\u001b[0m\u001b[0;34m.\u001b[0m\u001b[0mtk\u001b[0m\u001b[0;34m,\u001b[0m \u001b[0mkw\u001b[0m\u001b[0;34m,\u001b[0m \u001b[0mself\u001b[0m\u001b[0;34m.\u001b[0m\u001b[0m_w\u001b[0m\u001b[0;34m,\u001b[0m \u001b[0;34m'heading'\u001b[0m\u001b[0;34m,\u001b[0m \u001b[0mcolumn\u001b[0m\u001b[0;34m)\u001b[0m\u001b[0;34m\u001b[0m\u001b[0;34m\u001b[0m\u001b[0m\n\u001b[0m\u001b[1;32m   1305\u001b[0m \u001b[0;34m\u001b[0m\u001b[0m\n\u001b[1;32m   1306\u001b[0m \u001b[0;34m\u001b[0m\u001b[0m\n",
      "\u001b[0;32m/Library/Frameworks/Python.framework/Versions/3.8/lib/python3.8/tkinter/ttk.py\u001b[0m in \u001b[0;36m_val_or_dict\u001b[0;34m(tk, options, *args)\u001b[0m\n\u001b[1;32m    295\u001b[0m     shouldn't be expecting a return value anyway.\"\"\"\n\u001b[1;32m    296\u001b[0m     \u001b[0moptions\u001b[0m \u001b[0;34m=\u001b[0m \u001b[0m_format_optdict\u001b[0m\u001b[0;34m(\u001b[0m\u001b[0moptions\u001b[0m\u001b[0;34m)\u001b[0m\u001b[0;34m\u001b[0m\u001b[0;34m\u001b[0m\u001b[0m\n\u001b[0;32m--> 297\u001b[0;31m     \u001b[0mres\u001b[0m \u001b[0;34m=\u001b[0m \u001b[0mtk\u001b[0m\u001b[0;34m.\u001b[0m\u001b[0mcall\u001b[0m\u001b[0;34m(\u001b[0m\u001b[0;34m*\u001b[0m\u001b[0;34m(\u001b[0m\u001b[0margs\u001b[0m \u001b[0;34m+\u001b[0m \u001b[0moptions\u001b[0m\u001b[0;34m)\u001b[0m\u001b[0;34m)\u001b[0m\u001b[0;34m\u001b[0m\u001b[0;34m\u001b[0m\u001b[0m\n\u001b[0m\u001b[1;32m    298\u001b[0m \u001b[0;34m\u001b[0m\u001b[0m\n\u001b[1;32m    299\u001b[0m     \u001b[0;32mif\u001b[0m \u001b[0mlen\u001b[0m\u001b[0;34m(\u001b[0m\u001b[0moptions\u001b[0m\u001b[0;34m)\u001b[0m \u001b[0;34m%\u001b[0m \u001b[0;36m2\u001b[0m\u001b[0;34m:\u001b[0m \u001b[0;31m# option specified without a value, return its value\u001b[0m\u001b[0;34m\u001b[0m\u001b[0;34m\u001b[0m\u001b[0m\n",
      "\u001b[0;31mTclError\u001b[0m: Column index 1 out of bounds"
     ]
    }
   ],
   "source": [
    "from tkinter import *\n",
    "import tkinter as tk\n",
    "from tkinter import ttk\n",
    "from tkinter import messagebox, filedialog\n",
    "import csv\n",
    "import os\n",
    "import sqlite3\n",
    "\n",
    "# mydata = []\n",
    "\n",
    "\n",
    "# def update(rows):\n",
    "#     global mydata\n",
    "#     mydata = rows\n",
    "#     trv.delete(trv.get_children())\n",
    "#     for i in rows:\n",
    "#         trv.insert('','end',values=i)\n",
    "        \n",
    "# def search():\n",
    "#     q2 = q.get()\n",
    "#     query = \"SELECT id, first_name, last_name, age FROM customers WHERE first_name LIKE '%\"+q2+\"%' OR last_name like '%\"+q2+\"%'\" \n",
    "#     cursor.execute(query)\n",
    "#     rows = cursor.fetchall()\n",
    "#     update(rows)\n",
    "    \n",
    "# def clear():\n",
    "#     query = \"SELECT id, first_name, last_name, age FROM customers\"\n",
    "#     cursor.execute(query)\n",
    "#     rows = cursor.fetchall()\n",
    "#     update(rows)\n",
    "    \n",
    "# def getrow(event):\n",
    "#     rowid = trv.identify_row(event.y)\n",
    "#     item = trv.item(trv.focus())\n",
    "#     t1.set(item['values'][0])\n",
    "#     t2.set(item['values'][1])\n",
    "#     t3.set(item['values'][2])\n",
    "#     t4.set(item['values'][3])\n",
    "    \n",
    "# def update_customer():\n",
    "#     fname = t2.get()\n",
    "#     lname = t3.get()\n",
    "#     age = t4.get()\n",
    "#     custid = t1.get()\n",
    "#     if messagebox.askyesno(\"Confirm Please\", \"Sure you want to update?\"):\n",
    "#         query = \"UPDATE customers SET first_name = %s, last name = %s, age = %s WHERE id = %s\"\n",
    "#         cursor.execute(query,(fname,lname,age,custid))\n",
    "#         mydb.commit()\n",
    "#         clear()\n",
    "#     else:\n",
    "#         return True \n",
    "    \n",
    "# def add_new():\n",
    "#     fname = t2.get()\n",
    "#     lname = t3.get()\n",
    "#     age = t4.get()\n",
    "#     query = \"INSERT INTO customers(id, first_name, last_name, age, date) VALUES(NULL, %s,%s,%s,NOW())\"\n",
    "#     cursor.execute(query,(fname,lname,age))\n",
    "#     mydb.commit()\n",
    "#     clear()\n",
    "    \n",
    "# def delete_customer():\n",
    "#     customer_id = t1.get()\n",
    "#     if messagebox.askyesno(\"Confirm Please\", \"Sure you want to delete?\"):\n",
    "#         query = \"DELETE FROM customers WHERE id=\"+customer_id\n",
    "#         cursor.execute(query,(fname,lname,age))\n",
    "#     mydb.commit()\n",
    "#     clear()\n",
    "    \n",
    "    \n",
    "# def export():\n",
    "# #     if len(mydata)<1\n",
    "# #         messagebox.showerror(\"No data\", \"No data to export\")\n",
    "# #         return False\n",
    "# #     else \n",
    "    \n",
    "#     fln = filedialog.asksaveasfilename(initialdir=os.getcwd(), title=\"Save CSV\", filetypes=((\"CSV File\", \"*.csv\"), (\"All Files\", \"*.*\")))\n",
    "#     with open(fln, mode='w') as myfile:\n",
    "#         exp_writer = csv.writer(myfile,delimeter=',')\n",
    "#         for i in mydata\n",
    "#             exp_write.writerow(i)\n",
    "#     messagebox.showinfo(\"Data Exported\", \"Your data has been exported to\"+os.path.basename(fln)+\"successfully.\")\n",
    "\n",
    "# def importcsv():\n",
    "#     mydata.clear()\n",
    "#     fln = filedialog.askopenfilename(initialdir=os.getcwd(),title=\"Save CSV\", filetypes=((\"CSV File\", \"*.csv\"), (\"All Files\", \"*.*\")))\n",
    "#     with open(fln) as myfile:\n",
    "#         csvread = csv.reader(myfile, deliimeter=\",\")\n",
    "#         for i in csvread:\n",
    "#             mydata.append(i)\n",
    "#     update(mydata)\n",
    "\n",
    "# def savedb():\n",
    "#     if messagebox.askyesno(\"Confirm\",\"You sure you wanna save?\"):\n",
    "#         for i in mydata:\n",
    "#             uid = i[0]\n",
    "#             fname = i[1]\n",
    "#             lname = i[2]\n",
    "#             age = i[3]\n",
    "#             query = \"INSERT INTO customers(id, first_name, last_name, age, date) VALUES(NULL, %s,%s,%s,NOW())\"\n",
    "#             cursor.execute(query,(fname,lname,age))\n",
    "#         mydb.commit()\n",
    "#         clear()\n",
    "#         messagebox.showinfo(\"Data Saved\", \"Data is saved to database\")\n",
    "#     else:\n",
    "#         return False\n",
    "    \n",
    "    \n",
    "mydb = sqlite3.connect('chinook.db')\n",
    "\n",
    "cursor = mydb.cursor\n",
    "    \n",
    "    \n",
    "root = Tk()\n",
    "\n",
    "q = StringVar()\n",
    "t1 = StringVar()\n",
    "t2 = StringVar()\n",
    "t3 = StringVar()\n",
    "t4 = StringVar()\n",
    "\n",
    "wrapper1 = LabelFrame(root,text=\"Customer List\")\n",
    "wrapper2 = LabelFrame(root, text=\"Search\")\n",
    "wrapper3 = LabelFrame(root, text=\"Customer Data\")\n",
    "\n",
    "wrapper1.pack(fill=\"both\", expand=\"yes\", padx=20, pady=10)\n",
    "wrapper2.pack(fill=\"both\", expand=\"yes\", padx=20, pady=10)\n",
    "wrapper3.pack(fill=\"both\", expand=\"yes\", padx=20, pady=10)\n",
    "\n",
    "trv = ttk.Treeview(wrapper1, show=\"headings\", height=\"6\")\n",
    "trv.pack()\n",
    "\n",
    "trv.heading(1,text=\"Customer ID\")\n",
    "trv.heading(2, text=\"First Name\")\n",
    "trv.heading(3,text=\"Last Name\")\n",
    "trv.heading(4,text=\"Age\")\n",
    "\n",
    "# trv.bind('<Double 1>', getrow)\n",
    "\n",
    "\n",
    "\n",
    "# expbtn = Button(wrapper1, text=\"Export CSV\", command=export)\n",
    "# expbtn.pack(side=tk.LEFT, padx=10,pady=10)\n",
    "\n",
    "# impbtn = Button(wrapper1, text=\"Import CSV\", command=importcsv)\n",
    "# impbtn.pack(side=tk.LEFT,padx=10,pady=10)\n",
    "\n",
    "# savebtn = Button(wrapper1,text=\"Save Data\", command=savedb)\n",
    "# savebtn.pack(side = tk.LEFT, padx=10,pady=10)\n",
    "\n",
    "# extbtn = Button(wrapper1, text=\"Exit\", command=lambda: exit())\n",
    "# extbtn.pack(side = tk.LEFT, padx=10,pady=10)\n",
    "\n",
    "# query = \"SELECT id, first_name, last_name, age from customers\"\n",
    "# cursor.execute(query)\n",
    "# rows = cursor.fetchall()\n",
    "# update(rows)\n",
    "\n",
    "# #Search section\n",
    "# lbl = Label(wrapper2, text=\"Search\")\n",
    "# lbl.pack(side=tk.LEFT,padx=10)\n",
    "# ent = Entry(wrapper2, textvariable = q)\n",
    "# ent.pack(side=tk.LEFT, padx=6)\n",
    "\n",
    "\n",
    "\n",
    "\n",
    "root.title(\"My Application\")\n",
    "root.geometry(\"800x700\")\n",
    "root.mainloop()\n"
   ]
  },
  {
   "cell_type": "code",
   "execution_count": null,
   "metadata": {},
   "outputs": [],
   "source": []
  }
 ],
 "metadata": {
  "kernelspec": {
   "display_name": "Python 3",
   "language": "python",
   "name": "python3"
  },
  "language_info": {
   "codemirror_mode": {
    "name": "ipython",
    "version": 3
   },
   "file_extension": ".py",
   "mimetype": "text/x-python",
   "name": "python",
   "nbconvert_exporter": "python",
   "pygments_lexer": "ipython3",
   "version": "3.8.3"
  }
 },
 "nbformat": 4,
 "nbformat_minor": 4
}
