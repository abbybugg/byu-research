{
 "cells": [
  {
   "cell_type": "code",
   "execution_count": 1,
   "metadata": {},
   "outputs": [],
   "source": [
    "# This file makes several different dictionaries with vertices and edges so you can get vectors \n",
    "# for smaller periods of time. "
   ]
  },
  {
   "cell_type": "code",
   "execution_count": 5,
   "metadata": {},
   "outputs": [],
   "source": [
    "import csv\n",
    "import pandas as pd\n",
    "import json\n",
    "from json import JSONEncoder\n",
    "from pandas import DataFrame\n",
    "from pytrends.request import TrendReq\n",
    "import numpy as np\n",
    "\n",
    "# Login to Google. Only need to run this once, the rest of requests will use the same session.\n",
    "pytrend = TrendReq(hl='en-US', tz=360)"
   ]
  },
  {
   "cell_type": "code",
   "execution_count": 6,
   "metadata": {},
   "outputs": [],
   "source": [
    "# List of search terms\n",
    "keyword = (['coronavirus'])\n",
    "location = ('US-CA')\n",
    "timeframe = ('2020-01-01 2020-01-31',\n",
    "             '2020-02-01 2020-02-28',\n",
    "             '2020-03-01 2020-03-31',\n",
    "             '2020-04-01 2020-04-30', \n",
    "             '2020-05-01 2020-05-31', \n",
    "             '2020-06-01 2020-06-30',\n",
    "             '2020-07-01 2020-07-31',\n",
    "             '2020-08-01 2020-08-31',\n",
    "             '2020-09-01 2020-09-30', \n",
    "             '2020-10-01 2020-10-31',\n",
    "             '2020-11-01 2020-11-30',\n",
    "             '2020-12-01 2020-12-20')\n",
    "\n",
    "filename = ('outputdata.txt')"
   ]
  },
  {
   "cell_type": "code",
   "execution_count": 7,
   "metadata": {},
   "outputs": [],
   "source": [
    "# Creates separate json formats for each month so you can produce a vector for each month:\n",
    "for time in timeframe: \n",
    "      # Create payload and capture API tokens \n",
    "    pytrend.build_payload(keyword, cat=0, timeframe=time,geo=location,gprop='')\n",
    "      # Create dataframe of interest over time\n",
    "    df = pytrend.interest_over_time()\n",
    "      #Format dataframe:\n",
    "    df = df.reset_index() \n",
    "    df.index = np.arange(1, len(df)+1)\n",
    "    df = df.reset_index() \n",
    "    df = df.drop(columns = ['date', 'isPartial'])\n",
    "    df.columns=['Date','Search Popularity']\n",
    "    df['Location'] = location\n",
    "    #Define vertices and edges:\n",
    "    df_list = df.values.tolist()\n",
    "    vertices = { i : df_list[i] for i in range(0, len(df_list)) }\n",
    "    edges = []\n",
    "    for i in range(1,len(df)):\n",
    "        edge = [str(i),str(i+1)]\n",
    "        edge = edges.append(edge)\n",
    "    finaldict = {\"Data\": { \"Vertices\": vertices, \"Edges\": edges}}\n",
    "    with open(filename, \"a\") as outfile:\n",
    "         json.dump(finaldict, outfile)"
   ]
  },
  {
   "cell_type": "code",
   "execution_count": null,
   "metadata": {},
   "outputs": [],
   "source": []
  }
 ],
 "metadata": {
  "kernelspec": {
   "display_name": "Python 3",
   "language": "python",
   "name": "python3"
  },
  "language_info": {
   "codemirror_mode": {
    "name": "ipython",
    "version": 3
   },
   "file_extension": ".py",
   "mimetype": "text/x-python",
   "name": "python",
   "nbconvert_exporter": "python",
   "pygments_lexer": "ipython3",
   "version": "3.8.3"
  }
 },
 "nbformat": 4,
 "nbformat_minor": 4
}
